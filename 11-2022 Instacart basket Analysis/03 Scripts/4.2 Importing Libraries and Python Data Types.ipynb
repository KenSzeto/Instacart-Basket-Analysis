{
 "cells": [
  {
   "cell_type": "markdown",
   "id": "3a75abc7",
   "metadata": {},
   "source": [
    "# Contents\n",
    "\n",
    "1. Importing Libraries\n",
    "2. Data Types"
   ]
  },
  {
   "cell_type": "markdown",
   "id": "ad1274ad",
   "metadata": {},
   "source": [
    "# 01. Importing Libraries"
   ]
  },
  {
   "cell_type": "code",
   "execution_count": 1,
   "id": "451a9b15",
   "metadata": {},
   "outputs": [],
   "source": [
    "#Import Libraries\n",
    "import pandas as pd\n",
    "import numpy as np\n",
    "import os"
   ]
  },
  {
   "cell_type": "markdown",
   "id": "b96be98f",
   "metadata": {},
   "source": [
    "# 02. Data Types"
   ]
  },
  {
   "cell_type": "code",
   "execution_count": 30,
   "id": "35081970",
   "metadata": {},
   "outputs": [],
   "source": [
    "a = 90"
   ]
  },
  {
   "cell_type": "code",
   "execution_count": 31,
   "id": "6e322960",
   "metadata": {},
   "outputs": [],
   "source": [
    "b = 10"
   ]
  },
  {
   "cell_type": "code",
   "execution_count": 32,
   "id": "7c9f1334",
   "metadata": {},
   "outputs": [],
   "source": [
    "c = 50"
   ]
  },
  {
   "cell_type": "code",
   "execution_count": 33,
   "id": "19f642eb",
   "metadata": {},
   "outputs": [],
   "source": [
    "d = 40"
   ]
  },
  {
   "cell_type": "code",
   "execution_count": 34,
   "id": "12b11363",
   "metadata": {},
   "outputs": [
    {
     "data": {
      "text/plain": [
       "100"
      ]
     },
     "execution_count": 34,
     "metadata": {},
     "output_type": "execute_result"
    }
   ],
   "source": [
    "a + b"
   ]
  },
  {
   "cell_type": "code",
   "execution_count": 35,
   "id": "d98412ea",
   "metadata": {},
   "outputs": [
    {
     "data": {
      "text/plain": [
       "100"
      ]
     },
     "execution_count": 35,
     "metadata": {},
     "output_type": "execute_result"
    }
   ],
   "source": [
    "c * 2"
   ]
  },
  {
   "cell_type": "code",
   "execution_count": 36,
   "id": "049d66b0",
   "metadata": {},
   "outputs": [
    {
     "data": {
      "text/plain": [
       "100"
      ]
     },
     "execution_count": 36,
     "metadata": {},
     "output_type": "execute_result"
    }
   ],
   "source": [
    "d + b + c"
   ]
  },
  {
   "cell_type": "code",
   "execution_count": 37,
   "id": "453046f6",
   "metadata": {},
   "outputs": [],
   "source": [
    "x = 3.14159"
   ]
  },
  {
   "cell_type": "code",
   "execution_count": 38,
   "id": "7c766477",
   "metadata": {},
   "outputs": [],
   "source": [
    "y = 1.5"
   ]
  },
  {
   "cell_type": "code",
   "execution_count": 39,
   "id": "3b3e3b92",
   "metadata": {},
   "outputs": [
    {
     "data": {
      "text/plain": [
       "2.094393333333333"
      ]
     },
     "execution_count": 39,
     "metadata": {},
     "output_type": "execute_result"
    }
   ],
   "source": [
    "x/y"
   ]
  },
  {
   "cell_type": "code",
   "execution_count": 41,
   "id": "b901524a",
   "metadata": {},
   "outputs": [],
   "source": [
    "h = 'Hel'"
   ]
  },
  {
   "cell_type": "code",
   "execution_count": 43,
   "id": "7b14c13a",
   "metadata": {},
   "outputs": [],
   "source": [
    "o = 'lo'"
   ]
  },
  {
   "cell_type": "code",
   "execution_count": 44,
   "id": "05827237",
   "metadata": {},
   "outputs": [
    {
     "data": {
      "text/plain": [
       "'Hello'"
      ]
     },
     "execution_count": 44,
     "metadata": {},
     "output_type": "execute_result"
    }
   ],
   "source": [
    "h + o"
   ]
  },
  {
   "cell_type": "code",
   "execution_count": 46,
   "id": "97820bd8",
   "metadata": {},
   "outputs": [
    {
     "data": {
      "text/plain": [
       "'Hello World!'"
      ]
     },
     "execution_count": 46,
     "metadata": {},
     "output_type": "execute_result"
    }
   ],
   "source": [
    "h + o + ' World!'"
   ]
  },
  {
   "cell_type": "code",
   "execution_count": 48,
   "id": "b0360ed4",
   "metadata": {},
   "outputs": [
    {
     "data": {
      "text/plain": [
       "'I am happy to meet you.'"
      ]
     },
     "execution_count": 48,
     "metadata": {},
     "output_type": "execute_result"
    }
   ],
   "source": [
    "'I am' + ' happy' + ' to meet you.'"
   ]
  },
  {
   "cell_type": "code",
   "execution_count": 49,
   "id": "d4f4b3e8",
   "metadata": {},
   "outputs": [],
   "source": [
    "v = 'VOTE! '"
   ]
  },
  {
   "cell_type": "code",
   "execution_count": 50,
   "id": "df732388",
   "metadata": {},
   "outputs": [
    {
     "data": {
      "text/plain": [
       "'VOTE! VOTE! VOTE! VOTE! VOTE! VOTE! VOTE! VOTE! VOTE! VOTE! VOTE! VOTE! VOTE! VOTE! VOTE! VOTE! VOTE! VOTE! VOTE! VOTE! VOTE! VOTE! VOTE! VOTE! VOTE! VOTE! VOTE! VOTE! VOTE! VOTE! VOTE! VOTE! VOTE! VOTE! VOTE! VOTE! VOTE! VOTE! VOTE! VOTE! VOTE! VOTE! VOTE! VOTE! VOTE! VOTE! VOTE! VOTE! VOTE! VOTE! VOTE! VOTE! VOTE! VOTE! VOTE! VOTE! VOTE! VOTE! VOTE! VOTE! VOTE! VOTE! VOTE! VOTE! VOTE! VOTE! VOTE! VOTE! VOTE! VOTE! VOTE! VOTE! VOTE! VOTE! VOTE! VOTE! VOTE! VOTE! VOTE! VOTE! VOTE! VOTE! VOTE! VOTE! VOTE! VOTE! VOTE! VOTE! VOTE! VOTE! VOTE! VOTE! VOTE! VOTE! VOTE! VOTE! VOTE! VOTE! VOTE! VOTE! VOTE! VOTE! VOTE! VOTE! VOTE! VOTE! VOTE! VOTE! VOTE! VOTE! VOTE! VOTE! VOTE! VOTE! VOTE! VOTE! VOTE! VOTE! VOTE! VOTE! VOTE! VOTE! VOTE! VOTE! VOTE! VOTE! VOTE! VOTE! VOTE! VOTE! VOTE! VOTE! VOTE! VOTE! VOTE! VOTE! VOTE! VOTE! VOTE! VOTE! VOTE! VOTE! VOTE! VOTE! VOTE! VOTE! VOTE! VOTE! VOTE! VOTE! VOTE! VOTE! VOTE! VOTE! VOTE! VOTE! VOTE! VOTE! VOTE! VOTE! VOTE! VOTE! VOTE! VOTE! VOTE! VOTE! VOTE! VOTE! VOTE! VOTE! VOTE! VOTE! VOTE! VOTE! VOTE! VOTE! VOTE! VOTE! VOTE! VOTE! VOTE! VOTE! VOTE! VOTE! VOTE! VOTE! VOTE! VOTE! VOTE! VOTE! VOTE! VOTE! VOTE! VOTE! VOTE! VOTE! VOTE! VOTE! VOTE! VOTE! VOTE! VOTE! VOTE! VOTE! VOTE! VOTE! VOTE! VOTE! VOTE! VOTE! VOTE! VOTE! VOTE! VOTE! VOTE! VOTE! VOTE! VOTE! VOTE! VOTE! VOTE! VOTE! VOTE! VOTE! VOTE! VOTE! VOTE! VOTE! VOTE! VOTE! VOTE! VOTE! VOTE! VOTE! VOTE! VOTE! VOTE! VOTE! VOTE! VOTE! VOTE! VOTE! VOTE! VOTE! VOTE! VOTE! VOTE! VOTE! VOTE! VOTE! VOTE! VOTE! VOTE! VOTE! VOTE! VOTE! VOTE! VOTE! VOTE! VOTE! VOTE! VOTE! VOTE! VOTE! VOTE! VOTE! VOTE! VOTE! VOTE! VOTE! VOTE! VOTE! VOTE! VOTE! VOTE! VOTE! VOTE! VOTE! VOTE! VOTE! VOTE! VOTE! VOTE! VOTE! VOTE! VOTE! VOTE! VOTE! VOTE! VOTE! VOTE! VOTE! VOTE! VOTE! VOTE! VOTE! VOTE! VOTE! VOTE! VOTE! VOTE! VOTE! VOTE! VOTE! VOTE! VOTE! VOTE! VOTE! VOTE! VOTE! VOTE! VOTE! VOTE! VOTE! VOTE! VOTE! VOTE! VOTE! VOTE! VOTE! VOTE! VOTE! VOTE! VOTE! VOTE! VOTE! VOTE! VOTE! VOTE! VOTE! VOTE! VOTE! VOTE! VOTE! VOTE! VOTE! VOTE! VOTE! VOTE! VOTE! VOTE! VOTE! VOTE! VOTE! VOTE! VOTE! VOTE! VOTE! VOTE! VOTE! VOTE! VOTE! VOTE! VOTE! VOTE! VOTE! VOTE! VOTE! VOTE! VOTE! VOTE! VOTE! VOTE! VOTE! VOTE! VOTE! VOTE! VOTE! VOTE! VOTE! VOTE! VOTE! VOTE! VOTE! VOTE! VOTE! VOTE! VOTE! VOTE! VOTE! VOTE! VOTE! VOTE! VOTE! VOTE! VOTE! VOTE! VOTE! VOTE! VOTE! VOTE! VOTE! VOTE! VOTE! VOTE! VOTE! VOTE! VOTE! VOTE! VOTE! VOTE! VOTE! VOTE! VOTE! VOTE! VOTE! VOTE! VOTE! VOTE! VOTE! VOTE! VOTE! VOTE! VOTE! VOTE! VOTE! VOTE! VOTE! VOTE! VOTE! VOTE! VOTE! VOTE! VOTE! VOTE! VOTE! VOTE! VOTE! VOTE! VOTE! VOTE! VOTE! VOTE! VOTE! VOTE! VOTE! VOTE! VOTE! VOTE! VOTE! VOTE! VOTE! VOTE! VOTE! VOTE! VOTE! VOTE! VOTE! VOTE! VOTE! VOTE! VOTE! VOTE! VOTE! VOTE! VOTE! VOTE! VOTE! VOTE! VOTE! VOTE! VOTE! VOTE! VOTE! VOTE! VOTE! VOTE! VOTE! VOTE! VOTE! VOTE! VOTE! VOTE! VOTE! VOTE! VOTE! VOTE! VOTE! VOTE! VOTE! VOTE! VOTE! VOTE! VOTE! VOTE! VOTE! VOTE! VOTE! VOTE! VOTE! VOTE! VOTE! VOTE! VOTE! VOTE! VOTE! VOTE! VOTE! VOTE! VOTE! VOTE! VOTE! VOTE! VOTE! VOTE! VOTE! VOTE! VOTE! VOTE! VOTE! VOTE! VOTE! VOTE! VOTE! VOTE! VOTE! VOTE! VOTE! VOTE! VOTE! VOTE! VOTE! VOTE! VOTE! VOTE! VOTE! VOTE! VOTE! VOTE! VOTE! VOTE! VOTE! VOTE! VOTE! VOTE! VOTE! VOTE! VOTE! VOTE! VOTE! VOTE! VOTE! VOTE! VOTE! VOTE! VOTE! VOTE! VOTE! VOTE! VOTE! VOTE! VOTE! VOTE! VOTE! VOTE! VOTE! VOTE! VOTE! VOTE! VOTE! VOTE! VOTE! VOTE! VOTE! VOTE! VOTE! VOTE! VOTE! VOTE! VOTE! VOTE! VOTE! VOTE! VOTE! VOTE! VOTE! VOTE! VOTE! VOTE! VOTE! VOTE! VOTE! VOTE! VOTE! VOTE! VOTE! VOTE! VOTE! VOTE! VOTE! VOTE! VOTE! VOTE! VOTE! VOTE! VOTE! VOTE! VOTE! VOTE! VOTE! VOTE! VOTE! VOTE! VOTE! VOTE! VOTE! VOTE! VOTE! VOTE! VOTE! VOTE! VOTE! VOTE! VOTE! VOTE! VOTE! VOTE! VOTE! VOTE! VOTE! VOTE! VOTE! VOTE! VOTE! VOTE! VOTE! VOTE! VOTE! VOTE! VOTE! VOTE! VOTE! VOTE! VOTE! VOTE! VOTE! VOTE! VOTE! VOTE! VOTE! VOTE! VOTE! VOTE! VOTE! VOTE! VOTE! VOTE! VOTE! VOTE! VOTE! VOTE! VOTE! VOTE! VOTE! VOTE! VOTE! VOTE! VOTE! VOTE! VOTE! VOTE! VOTE! VOTE! VOTE! VOTE! VOTE! VOTE! VOTE! VOTE! VOTE! VOTE! VOTE! VOTE! VOTE! VOTE! VOTE! VOTE! VOTE! VOTE! VOTE! VOTE! VOTE! VOTE! VOTE! VOTE! VOTE! VOTE! VOTE! VOTE! VOTE! VOTE! VOTE! VOTE! VOTE! VOTE! VOTE! VOTE! VOTE! VOTE! VOTE! VOTE! VOTE! VOTE! VOTE! VOTE! VOTE! VOTE! VOTE! VOTE! VOTE! VOTE! VOTE! VOTE! VOTE! VOTE! VOTE! VOTE! VOTE! VOTE! VOTE! VOTE! VOTE! VOTE! VOTE! VOTE! VOTE! VOTE! VOTE! VOTE! VOTE! VOTE! VOTE! VOTE! VOTE! VOTE! VOTE! VOTE! VOTE! VOTE! VOTE! VOTE! VOTE! VOTE! VOTE! VOTE! VOTE! VOTE! VOTE! VOTE! VOTE! VOTE! VOTE! VOTE! VOTE! VOTE! VOTE! VOTE! VOTE! VOTE! VOTE! VOTE! VOTE! VOTE! VOTE! VOTE! VOTE! VOTE! VOTE! VOTE! VOTE! VOTE! VOTE! VOTE! VOTE! VOTE! VOTE! VOTE! VOTE! VOTE! VOTE! VOTE! VOTE! VOTE! VOTE! VOTE! VOTE! VOTE! VOTE! VOTE! VOTE! VOTE! VOTE! VOTE! VOTE! VOTE! VOTE! VOTE! VOTE! VOTE! VOTE! VOTE! VOTE! VOTE! VOTE! VOTE! VOTE! VOTE! VOTE! VOTE! VOTE! VOTE! VOTE! VOTE! VOTE! VOTE! VOTE! VOTE! VOTE! VOTE! VOTE! VOTE! VOTE! VOTE! VOTE! VOTE! VOTE! VOTE! VOTE! VOTE! VOTE! VOTE! VOTE! VOTE! VOTE! VOTE! VOTE! VOTE! VOTE! VOTE! VOTE! VOTE! VOTE! VOTE! VOTE! VOTE! VOTE! VOTE! VOTE! VOTE! VOTE! VOTE! VOTE! VOTE! VOTE! VOTE! VOTE! VOTE! VOTE! VOTE! VOTE! VOTE! VOTE! VOTE! VOTE! VOTE! VOTE! VOTE! VOTE! VOTE! VOTE! VOTE! VOTE! VOTE! VOTE! VOTE! VOTE! VOTE! VOTE! VOTE! VOTE! VOTE! VOTE! VOTE! VOTE! VOTE! VOTE! VOTE! VOTE! VOTE! VOTE! VOTE! VOTE! VOTE! VOTE! VOTE! VOTE! VOTE! VOTE! VOTE! VOTE! VOTE! VOTE! VOTE! VOTE! VOTE! VOTE! VOTE! VOTE! VOTE! VOTE! VOTE! VOTE! VOTE! VOTE! VOTE! VOTE! VOTE! VOTE! VOTE! VOTE! VOTE! VOTE! VOTE! VOTE! VOTE! VOTE! VOTE! VOTE! VOTE! VOTE! VOTE! VOTE! VOTE! VOTE! VOTE! VOTE! VOTE! VOTE! VOTE! VOTE! VOTE! VOTE! VOTE! VOTE! VOTE! VOTE! VOTE! VOTE! VOTE! VOTE! VOTE! VOTE! VOTE! VOTE! VOTE! VOTE! VOTE! VOTE! VOTE! VOTE! VOTE! VOTE! VOTE! VOTE! VOTE! VOTE! VOTE! VOTE! VOTE! VOTE! VOTE! VOTE! VOTE! VOTE! VOTE! VOTE! VOTE! VOTE! VOTE! VOTE! VOTE! VOTE! VOTE! VOTE! VOTE! VOTE! VOTE! VOTE! VOTE! VOTE! VOTE! VOTE! VOTE! VOTE! VOTE! VOTE! VOTE! VOTE! VOTE! VOTE! '"
      ]
     },
     "execution_count": 50,
     "metadata": {},
     "output_type": "execute_result"
    }
   ],
   "source": [
    "v * 1000"
   ]
  },
  {
   "cell_type": "code",
   "execution_count": null,
   "id": "3456a512",
   "metadata": {},
   "outputs": [],
   "source": []
  }
 ],
 "metadata": {
  "kernelspec": {
   "display_name": "Python 3 (ipykernel)",
   "language": "python",
   "name": "python3"
  },
  "language_info": {
   "codemirror_mode": {
    "name": "ipython",
    "version": 3
   },
   "file_extension": ".py",
   "mimetype": "text/x-python",
   "name": "python",
   "nbconvert_exporter": "python",
   "pygments_lexer": "ipython3",
   "version": "3.9.13"
  }
 },
 "nbformat": 4,
 "nbformat_minor": 5
}
