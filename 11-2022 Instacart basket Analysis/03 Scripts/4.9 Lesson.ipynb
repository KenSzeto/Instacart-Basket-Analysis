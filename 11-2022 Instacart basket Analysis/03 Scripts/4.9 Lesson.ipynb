{
 "cells": [
  {
   "cell_type": "markdown",
   "id": "6fd6407c",
   "metadata": {},
   "source": [
    "# 4.9 Visualizations in Python"
   ]
  },
  {
   "cell_type": "markdown",
   "id": "124ed2b7",
   "metadata": {},
   "source": [
    "## Contents\n",
    "\n",
    "1. Importing Libraries\n",
    "2. Importing Data\n",
    "3. Creating Bar Charts\n",
    "4. Creating Histograms and Scatterplots\n",
    "5. Line Charts and Sampling Data"
   ]
  },
  {
   "cell_type": "markdown",
   "id": "9a74c45c",
   "metadata": {},
   "source": [
    "## 01. Importing Libraries"
   ]
  },
  {
   "cell_type": "code",
   "execution_count": 1,
   "id": "3d72fb5c",
   "metadata": {},
   "outputs": [],
   "source": [
    "import pandas as pd\n",
    "import numpy as np\n",
    "import os\n",
    "import matplotlib.pyplot as plt\n",
    "import seaborn as sns\n",
    "import scipy"
   ]
  },
  {
   "cell_type": "markdown",
   "id": "d9e895af",
   "metadata": {},
   "source": [
    "## 02. Importing Data"
   ]
  },
  {
   "cell_type": "code",
   "execution_count": 2,
   "id": "a9801ded",
   "metadata": {},
   "outputs": [],
   "source": [
    "path = r'C:\\Users\\kensz\\OneDrive\\Desktop\\CF Data Analytics Course\\Achievement 4\\11-2022 Instacart basket Analysis'"
   ]
  },
  {
   "cell_type": "code",
   "execution_count": 3,
   "id": "a4b1ef90",
   "metadata": {},
   "outputs": [],
   "source": [
    "df = pd.read_pickle(os.path.join(path, '02 Data', 'Prepared Data', 'orders_products_with_aggregates.pkl'))"
   ]
  },
  {
   "cell_type": "code",
   "execution_count": 4,
   "id": "6daad8d6",
   "metadata": {},
   "outputs": [
    {
     "data": {
      "text/html": [
       "<div>\n",
       "<style scoped>\n",
       "    .dataframe tbody tr th:only-of-type {\n",
       "        vertical-align: middle;\n",
       "    }\n",
       "\n",
       "    .dataframe tbody tr th {\n",
       "        vertical-align: top;\n",
       "    }\n",
       "\n",
       "    .dataframe thead th {\n",
       "        text-align: right;\n",
       "    }\n",
       "</style>\n",
       "<table border=\"1\" class=\"dataframe\">\n",
       "  <thead>\n",
       "    <tr style=\"text-align: right;\">\n",
       "      <th></th>\n",
       "      <th>order_id</th>\n",
       "      <th>user_id</th>\n",
       "      <th>order_number</th>\n",
       "      <th>orders_day_of_week</th>\n",
       "      <th>order_hour_of_day</th>\n",
       "      <th>days_since_prior_order</th>\n",
       "      <th>product_id</th>\n",
       "      <th>add_to_cart_order</th>\n",
       "      <th>reordered</th>\n",
       "      <th>product_name</th>\n",
       "      <th>...</th>\n",
       "      <th>busiest_day</th>\n",
       "      <th>busiest_days</th>\n",
       "      <th>busiest_hours</th>\n",
       "      <th>busiest_period_of_day</th>\n",
       "      <th>max_order</th>\n",
       "      <th>loyalty flag</th>\n",
       "      <th>average_prices</th>\n",
       "      <th>Spending_Flag</th>\n",
       "      <th>median_order_frequency</th>\n",
       "      <th>frequency_tag</th>\n",
       "    </tr>\n",
       "  </thead>\n",
       "  <tbody>\n",
       "    <tr>\n",
       "      <th>0</th>\n",
       "      <td>2398795</td>\n",
       "      <td>1</td>\n",
       "      <td>2</td>\n",
       "      <td>3</td>\n",
       "      <td>7</td>\n",
       "      <td>15.0</td>\n",
       "      <td>196</td>\n",
       "      <td>1</td>\n",
       "      <td>1</td>\n",
       "      <td>Soda</td>\n",
       "      <td>...</td>\n",
       "      <td>Regularly Busy</td>\n",
       "      <td>Least Busy Days</td>\n",
       "      <td>Average Orders</td>\n",
       "      <td>Average Orders</td>\n",
       "      <td>10</td>\n",
       "      <td>New Customer</td>\n",
       "      <td>6.372222</td>\n",
       "      <td>Low Spender</td>\n",
       "      <td>20.5</td>\n",
       "      <td>Non-frequent customer</td>\n",
       "    </tr>\n",
       "    <tr>\n",
       "      <th>1</th>\n",
       "      <td>473747</td>\n",
       "      <td>1</td>\n",
       "      <td>3</td>\n",
       "      <td>3</td>\n",
       "      <td>12</td>\n",
       "      <td>21.0</td>\n",
       "      <td>196</td>\n",
       "      <td>1</td>\n",
       "      <td>1</td>\n",
       "      <td>Soda</td>\n",
       "      <td>...</td>\n",
       "      <td>Regularly Busy</td>\n",
       "      <td>Least Busy Days</td>\n",
       "      <td>Most Orders</td>\n",
       "      <td>Most Orders</td>\n",
       "      <td>10</td>\n",
       "      <td>New Customer</td>\n",
       "      <td>6.372222</td>\n",
       "      <td>Low Spender</td>\n",
       "      <td>20.5</td>\n",
       "      <td>Non-frequent customer</td>\n",
       "    </tr>\n",
       "    <tr>\n",
       "      <th>2</th>\n",
       "      <td>2254736</td>\n",
       "      <td>1</td>\n",
       "      <td>4</td>\n",
       "      <td>4</td>\n",
       "      <td>7</td>\n",
       "      <td>29.0</td>\n",
       "      <td>196</td>\n",
       "      <td>1</td>\n",
       "      <td>1</td>\n",
       "      <td>Soda</td>\n",
       "      <td>...</td>\n",
       "      <td>Least Busy</td>\n",
       "      <td>Least Busy Days</td>\n",
       "      <td>Average Orders</td>\n",
       "      <td>Average Orders</td>\n",
       "      <td>10</td>\n",
       "      <td>New Customer</td>\n",
       "      <td>6.372222</td>\n",
       "      <td>Low Spender</td>\n",
       "      <td>20.5</td>\n",
       "      <td>Non-frequent customer</td>\n",
       "    </tr>\n",
       "    <tr>\n",
       "      <th>3</th>\n",
       "      <td>431534</td>\n",
       "      <td>1</td>\n",
       "      <td>5</td>\n",
       "      <td>4</td>\n",
       "      <td>15</td>\n",
       "      <td>28.0</td>\n",
       "      <td>196</td>\n",
       "      <td>1</td>\n",
       "      <td>1</td>\n",
       "      <td>Soda</td>\n",
       "      <td>...</td>\n",
       "      <td>Least Busy</td>\n",
       "      <td>Least Busy Days</td>\n",
       "      <td>Most Orders</td>\n",
       "      <td>Most Orders</td>\n",
       "      <td>10</td>\n",
       "      <td>New Customer</td>\n",
       "      <td>6.372222</td>\n",
       "      <td>Low Spender</td>\n",
       "      <td>20.5</td>\n",
       "      <td>Non-frequent customer</td>\n",
       "    </tr>\n",
       "    <tr>\n",
       "      <th>4</th>\n",
       "      <td>3367565</td>\n",
       "      <td>1</td>\n",
       "      <td>6</td>\n",
       "      <td>2</td>\n",
       "      <td>7</td>\n",
       "      <td>19.0</td>\n",
       "      <td>196</td>\n",
       "      <td>1</td>\n",
       "      <td>1</td>\n",
       "      <td>Soda</td>\n",
       "      <td>...</td>\n",
       "      <td>Regularly Busy</td>\n",
       "      <td>Regularly Busy</td>\n",
       "      <td>Average Orders</td>\n",
       "      <td>Average Orders</td>\n",
       "      <td>10</td>\n",
       "      <td>New Customer</td>\n",
       "      <td>6.372222</td>\n",
       "      <td>Low Spender</td>\n",
       "      <td>20.5</td>\n",
       "      <td>Non-frequent customer</td>\n",
       "    </tr>\n",
       "  </tbody>\n",
       "</table>\n",
       "<p>5 rows × 25 columns</p>\n",
       "</div>"
      ],
      "text/plain": [
       "   order_id  user_id  order_number  orders_day_of_week  order_hour_of_day  \\\n",
       "0   2398795        1             2                   3                  7   \n",
       "1    473747        1             3                   3                 12   \n",
       "2   2254736        1             4                   4                  7   \n",
       "3    431534        1             5                   4                 15   \n",
       "4   3367565        1             6                   2                  7   \n",
       "\n",
       "   days_since_prior_order  product_id  add_to_cart_order  reordered  \\\n",
       "0                    15.0         196                  1          1   \n",
       "1                    21.0         196                  1          1   \n",
       "2                    29.0         196                  1          1   \n",
       "3                    28.0         196                  1          1   \n",
       "4                    19.0         196                  1          1   \n",
       "\n",
       "  product_name  ...     busiest_day     busiest_days   busiest_hours  \\\n",
       "0         Soda  ...  Regularly Busy  Least Busy Days  Average Orders   \n",
       "1         Soda  ...  Regularly Busy  Least Busy Days     Most Orders   \n",
       "2         Soda  ...      Least Busy  Least Busy Days  Average Orders   \n",
       "3         Soda  ...      Least Busy  Least Busy Days     Most Orders   \n",
       "4         Soda  ...  Regularly Busy   Regularly Busy  Average Orders   \n",
       "\n",
       "  busiest_period_of_day max_order  loyalty flag average_prices Spending_Flag  \\\n",
       "0        Average Orders        10  New Customer       6.372222   Low Spender   \n",
       "1           Most Orders        10  New Customer       6.372222   Low Spender   \n",
       "2        Average Orders        10  New Customer       6.372222   Low Spender   \n",
       "3           Most Orders        10  New Customer       6.372222   Low Spender   \n",
       "4        Average Orders        10  New Customer       6.372222   Low Spender   \n",
       "\n",
       "  median_order_frequency          frequency_tag  \n",
       "0                   20.5  Non-frequent customer  \n",
       "1                   20.5  Non-frequent customer  \n",
       "2                   20.5  Non-frequent customer  \n",
       "3                   20.5  Non-frequent customer  \n",
       "4                   20.5  Non-frequent customer  \n",
       "\n",
       "[5 rows x 25 columns]"
      ]
     },
     "execution_count": 4,
     "metadata": {},
     "output_type": "execute_result"
    }
   ],
   "source": [
    "df.head(5)"
   ]
  },
  {
   "cell_type": "code",
   "execution_count": 5,
   "id": "2fbfdede",
   "metadata": {},
   "outputs": [
    {
     "data": {
      "text/plain": [
       "(30328763, 25)"
      ]
     },
     "execution_count": 5,
     "metadata": {},
     "output_type": "execute_result"
    }
   ],
   "source": [
    "df.shape"
   ]
  },
  {
   "cell_type": "markdown",
   "id": "73602aef",
   "metadata": {},
   "source": [
    "## 03. Creating Visualizations"
   ]
  },
  {
   "cell_type": "code",
   "execution_count": 6,
   "id": "35544ea9",
   "metadata": {},
   "outputs": [
    {
     "data": {
      "text/plain": [
       "<AxesSubplot:>"
      ]
     },
     "execution_count": 6,
     "metadata": {},
     "output_type": "execute_result"
    },
    {
     "data": {
      "image/png": "[encoded data removed]",
      "text/plain": [
       "<Figure size 640x480 with 1 Axes>"
      ]
     },
     "metadata": {},
     "output_type": "display_data"
    }
   ],
   "source": [
    "# creating a bar chart\n",
    "\n",
    "df['orders_day_of_week'].value_counts().plot.bar()"
   ]
  },
  {
   "cell_type": "code",
   "execution_count": 7,
   "id": "da869276",
   "metadata": {},
   "outputs": [
    {
     "data": {
      "text/plain": [
       "0    5779087\n",
       "1    5303718\n",
       "2    3947564\n",
       "3    3600589\n",
       "4    3554531\n",
       "5    3952326\n",
       "6    4190948\n",
       "Name: orders_day_of_week, dtype: int64"
      ]
     },
     "execution_count": 7,
     "metadata": {},
     "output_type": "execute_result"
    }
   ],
   "source": [
    "df['orders_day_of_week'].value_counts().sort_index()"
   ]
  },
  {
   "cell_type": "code",
   "execution_count": 8,
   "id": "2682eb41",
   "metadata": {},
   "outputs": [
    {
     "data": {
      "text/plain": [
       "<AxesSubplot:>"
      ]
     },
     "execution_count": 8,
     "metadata": {},
     "output_type": "execute_result"
    },
    {
     "data": {
      "image/png": "[encoded data removed]",
      "text/plain": [
       "<Figure size 640x480 with 1 Axes>"
      ]
     },
     "metadata": {},
     "output_type": "display_data"
    }
   ],
   "source": [
    "df['orders_day_of_week'].value_counts().plot.bar(color=['purple', 'red', 'pink', 'orange', 'yellow', 'green', 'blue'])"
   ]
  },
  {
   "cell_type": "code",
   "execution_count": 9,
   "id": "c115bf63",
   "metadata": {},
   "outputs": [
    {
     "data": {
      "image/png": "[encoded data removed]",
      "text/plain": [
       "<Figure size 640x480 with 1 Axes>"
      ]
     },
     "metadata": {},
     "output_type": "display_data"
    }
   ],
   "source": [
    "bar = df['orders_day_of_week'].value_counts().sort_index().plot.bar(color=['purple', 'red', 'pink', 'orange', 'yellow', 'green', 'blue'])"
   ]
  },
  {
   "cell_type": "code",
   "execution_count": 10,
   "id": "67137561",
   "metadata": {},
   "outputs": [],
   "source": [
    "bar.figure.savefig(os.path.join(path, '04 Analysis','Visualizations', 'bar_orders_dow.png'))"
   ]
  },
  {
   "cell_type": "markdown",
   "id": "aefc518b",
   "metadata": {},
   "source": [
    "## 04. Creating Histograms and Scatterplots"
   ]
  },
  {
   "cell_type": "code",
   "execution_count": 11,
   "id": "d1ff1a2d",
   "metadata": {},
   "outputs": [
    {
     "data": {
      "text/plain": [
       "<AxesSubplot:ylabel='Frequency'>"
      ]
     },
     "execution_count": 11,
     "metadata": {},
     "output_type": "execute_result"
    },
    {
     "data": {
      "image/png": "[encoded data removed]",
      "text/plain": [
       "<Figure size 640x480 with 1 Axes>"
      ]
     },
     "metadata": {},
     "output_type": "display_data"
    }
   ],
   "source": [
    "df['prices'].plot.hist(bins = 25)"
   ]
  },
  {
   "cell_type": "code",
   "execution_count": 12,
   "id": "c8d4e717",
   "metadata": {},
   "outputs": [
    {
     "data": {
      "text/plain": [
       "<AxesSubplot:xlabel='prices', ylabel='prices'>"
      ]
     },
     "execution_count": 12,
     "metadata": {},
     "output_type": "execute_result"
    },
    {
     "data": {
      "image/png": "[encoded data removed]",
      "text/plain": [
       "<Figure size 640x480 with 1 Axes>"
      ]
     },
     "metadata": {},
     "output_type": "display_data"
    }
   ],
   "source": [
    "sns.scatterplot(x = 'prices', y = 'prices',data = df)"
   ]
  },
  {
   "cell_type": "markdown",
   "id": "94f4c498",
   "metadata": {},
   "source": [
    "### 4b. Additional Data Cleaning"
   ]
  },
  {
   "cell_type": "code",
   "execution_count": 13,
   "id": "38a5648e",
   "metadata": {},
   "outputs": [
    {
     "data": {
      "text/html": [
       "<div>\n",
       "<style scoped>\n",
       "    .dataframe tbody tr th:only-of-type {\n",
       "        vertical-align: middle;\n",
       "    }\n",
       "\n",
       "    .dataframe tbody tr th {\n",
       "        vertical-align: top;\n",
       "    }\n",
       "\n",
       "    .dataframe thead th {\n",
       "        text-align: right;\n",
       "    }\n",
       "</style>\n",
       "<table border=\"1\" class=\"dataframe\">\n",
       "  <thead>\n",
       "    <tr style=\"text-align: right;\">\n",
       "      <th></th>\n",
       "      <th>order_id</th>\n",
       "      <th>user_id</th>\n",
       "      <th>order_number</th>\n",
       "      <th>orders_day_of_week</th>\n",
       "      <th>order_hour_of_day</th>\n",
       "      <th>days_since_prior_order</th>\n",
       "      <th>product_id</th>\n",
       "      <th>add_to_cart_order</th>\n",
       "      <th>reordered</th>\n",
       "      <th>product_name</th>\n",
       "      <th>...</th>\n",
       "      <th>busiest_day</th>\n",
       "      <th>busiest_days</th>\n",
       "      <th>busiest_hours</th>\n",
       "      <th>busiest_period_of_day</th>\n",
       "      <th>max_order</th>\n",
       "      <th>loyalty flag</th>\n",
       "      <th>average_prices</th>\n",
       "      <th>Spending_Flag</th>\n",
       "      <th>median_order_frequency</th>\n",
       "      <th>frequency_tag</th>\n",
       "    </tr>\n",
       "  </thead>\n",
       "  <tbody>\n",
       "    <tr>\n",
       "      <th>8960343</th>\n",
       "      <td>912404</td>\n",
       "      <td>17</td>\n",
       "      <td>12</td>\n",
       "      <td>2</td>\n",
       "      <td>14</td>\n",
       "      <td>5.0</td>\n",
       "      <td>21553</td>\n",
       "      <td>5</td>\n",
       "      <td>0</td>\n",
       "      <td>Lowfat 2% Milkfat Cottage Cheese</td>\n",
       "      <td>...</td>\n",
       "      <td>Regularly Busy</td>\n",
       "      <td>Regularly Busy</td>\n",
       "      <td>Most Orders</td>\n",
       "      <td>Most Orders</td>\n",
       "      <td>40</td>\n",
       "      <td>Regular Customer</td>\n",
       "      <td>109.670103</td>\n",
       "      <td>High Spender</td>\n",
       "      <td>5.0</td>\n",
       "      <td>Frequent customer</td>\n",
       "    </tr>\n",
       "    <tr>\n",
       "      <th>8960344</th>\n",
       "      <td>603376</td>\n",
       "      <td>17</td>\n",
       "      <td>22</td>\n",
       "      <td>6</td>\n",
       "      <td>16</td>\n",
       "      <td>4.0</td>\n",
       "      <td>21553</td>\n",
       "      <td>3</td>\n",
       "      <td>1</td>\n",
       "      <td>Lowfat 2% Milkfat Cottage Cheese</td>\n",
       "      <td>...</td>\n",
       "      <td>Regularly Busy</td>\n",
       "      <td>Regularly Busy</td>\n",
       "      <td>Average Orders</td>\n",
       "      <td>Average Orders</td>\n",
       "      <td>40</td>\n",
       "      <td>Regular Customer</td>\n",
       "      <td>109.670103</td>\n",
       "      <td>High Spender</td>\n",
       "      <td>5.0</td>\n",
       "      <td>Frequent customer</td>\n",
       "    </tr>\n",
       "    <tr>\n",
       "      <th>8960345</th>\n",
       "      <td>3264360</td>\n",
       "      <td>135</td>\n",
       "      <td>2</td>\n",
       "      <td>2</td>\n",
       "      <td>21</td>\n",
       "      <td>13.0</td>\n",
       "      <td>21553</td>\n",
       "      <td>6</td>\n",
       "      <td>0</td>\n",
       "      <td>Lowfat 2% Milkfat Cottage Cheese</td>\n",
       "      <td>...</td>\n",
       "      <td>Regularly Busy</td>\n",
       "      <td>Regularly Busy</td>\n",
       "      <td>Average Orders</td>\n",
       "      <td>Average Orders</td>\n",
       "      <td>4</td>\n",
       "      <td>New Customer</td>\n",
       "      <td>1250.245833</td>\n",
       "      <td>High Spender</td>\n",
       "      <td>12.0</td>\n",
       "      <td>Regular customer</td>\n",
       "    </tr>\n",
       "    <tr>\n",
       "      <th>8960346</th>\n",
       "      <td>892534</td>\n",
       "      <td>135</td>\n",
       "      <td>3</td>\n",
       "      <td>0</td>\n",
       "      <td>8</td>\n",
       "      <td>12.0</td>\n",
       "      <td>21553</td>\n",
       "      <td>3</td>\n",
       "      <td>1</td>\n",
       "      <td>Lowfat 2% Milkfat Cottage Cheese</td>\n",
       "      <td>...</td>\n",
       "      <td>Busiest Day</td>\n",
       "      <td>Busiest Days</td>\n",
       "      <td>Average Orders</td>\n",
       "      <td>Average Orders</td>\n",
       "      <td>4</td>\n",
       "      <td>New Customer</td>\n",
       "      <td>1250.245833</td>\n",
       "      <td>High Spender</td>\n",
       "      <td>12.0</td>\n",
       "      <td>Regular customer</td>\n",
       "    </tr>\n",
       "    <tr>\n",
       "      <th>8960347</th>\n",
       "      <td>229704</td>\n",
       "      <td>342</td>\n",
       "      <td>8</td>\n",
       "      <td>1</td>\n",
       "      <td>19</td>\n",
       "      <td>30.0</td>\n",
       "      <td>21553</td>\n",
       "      <td>9</td>\n",
       "      <td>0</td>\n",
       "      <td>Lowfat 2% Milkfat Cottage Cheese</td>\n",
       "      <td>...</td>\n",
       "      <td>Regularly Busy</td>\n",
       "      <td>Busiest Days</td>\n",
       "      <td>Average Orders</td>\n",
       "      <td>Average Orders</td>\n",
       "      <td>16</td>\n",
       "      <td>Regular Customer</td>\n",
       "      <td>120.090909</td>\n",
       "      <td>High Spender</td>\n",
       "      <td>23.0</td>\n",
       "      <td>Non-frequent customer</td>\n",
       "    </tr>\n",
       "    <tr>\n",
       "      <th>...</th>\n",
       "      <td>...</td>\n",
       "      <td>...</td>\n",
       "      <td>...</td>\n",
       "      <td>...</td>\n",
       "      <td>...</td>\n",
       "      <td>...</td>\n",
       "      <td>...</td>\n",
       "      <td>...</td>\n",
       "      <td>...</td>\n",
       "      <td>...</td>\n",
       "      <td>...</td>\n",
       "      <td>...</td>\n",
       "      <td>...</td>\n",
       "      <td>...</td>\n",
       "      <td>...</td>\n",
       "      <td>...</td>\n",
       "      <td>...</td>\n",
       "      <td>...</td>\n",
       "      <td>...</td>\n",
       "      <td>...</td>\n",
       "      <td>...</td>\n",
       "    </tr>\n",
       "    <tr>\n",
       "      <th>27128304</th>\n",
       "      <td>2249946</td>\n",
       "      <td>204099</td>\n",
       "      <td>29</td>\n",
       "      <td>0</td>\n",
       "      <td>8</td>\n",
       "      <td>4.0</td>\n",
       "      <td>33664</td>\n",
       "      <td>1</td>\n",
       "      <td>0</td>\n",
       "      <td>2 % Reduced Fat  Milk</td>\n",
       "      <td>...</td>\n",
       "      <td>Busiest Day</td>\n",
       "      <td>Busiest Days</td>\n",
       "      <td>Average Orders</td>\n",
       "      <td>Average Orders</td>\n",
       "      <td>39</td>\n",
       "      <td>Regular Customer</td>\n",
       "      <td>1137.802260</td>\n",
       "      <td>High Spender</td>\n",
       "      <td>4.0</td>\n",
       "      <td>Frequent customer</td>\n",
       "    </tr>\n",
       "    <tr>\n",
       "      <th>27128305</th>\n",
       "      <td>2363282</td>\n",
       "      <td>204099</td>\n",
       "      <td>31</td>\n",
       "      <td>0</td>\n",
       "      <td>9</td>\n",
       "      <td>2.0</td>\n",
       "      <td>33664</td>\n",
       "      <td>1</td>\n",
       "      <td>1</td>\n",
       "      <td>2 % Reduced Fat  Milk</td>\n",
       "      <td>...</td>\n",
       "      <td>Busiest Day</td>\n",
       "      <td>Busiest Days</td>\n",
       "      <td>Average Orders</td>\n",
       "      <td>Average Orders</td>\n",
       "      <td>39</td>\n",
       "      <td>Regular Customer</td>\n",
       "      <td>1137.802260</td>\n",
       "      <td>High Spender</td>\n",
       "      <td>4.0</td>\n",
       "      <td>Frequent customer</td>\n",
       "    </tr>\n",
       "    <tr>\n",
       "      <th>27128306</th>\n",
       "      <td>3181945</td>\n",
       "      <td>204395</td>\n",
       "      <td>13</td>\n",
       "      <td>3</td>\n",
       "      <td>15</td>\n",
       "      <td>8.0</td>\n",
       "      <td>33664</td>\n",
       "      <td>25</td>\n",
       "      <td>0</td>\n",
       "      <td>2 % Reduced Fat  Milk</td>\n",
       "      <td>...</td>\n",
       "      <td>Regularly Busy</td>\n",
       "      <td>Least Busy Days</td>\n",
       "      <td>Most Orders</td>\n",
       "      <td>Most Orders</td>\n",
       "      <td>15</td>\n",
       "      <td>Regular Customer</td>\n",
       "      <td>487.075120</td>\n",
       "      <td>High Spender</td>\n",
       "      <td>5.0</td>\n",
       "      <td>Frequent customer</td>\n",
       "    </tr>\n",
       "    <tr>\n",
       "      <th>27128307</th>\n",
       "      <td>2486215</td>\n",
       "      <td>205227</td>\n",
       "      <td>7</td>\n",
       "      <td>3</td>\n",
       "      <td>20</td>\n",
       "      <td>4.0</td>\n",
       "      <td>33664</td>\n",
       "      <td>8</td>\n",
       "      <td>0</td>\n",
       "      <td>2 % Reduced Fat  Milk</td>\n",
       "      <td>...</td>\n",
       "      <td>Regularly Busy</td>\n",
       "      <td>Least Busy Days</td>\n",
       "      <td>Average Orders</td>\n",
       "      <td>Average Orders</td>\n",
       "      <td>12</td>\n",
       "      <td>Regular Customer</td>\n",
       "      <td>1235.679755</td>\n",
       "      <td>High Spender</td>\n",
       "      <td>12.0</td>\n",
       "      <td>Regular customer</td>\n",
       "    </tr>\n",
       "    <tr>\n",
       "      <th>27128308</th>\n",
       "      <td>2232716</td>\n",
       "      <td>205227</td>\n",
       "      <td>10</td>\n",
       "      <td>0</td>\n",
       "      <td>11</td>\n",
       "      <td>4.0</td>\n",
       "      <td>33664</td>\n",
       "      <td>23</td>\n",
       "      <td>1</td>\n",
       "      <td>2 % Reduced Fat  Milk</td>\n",
       "      <td>...</td>\n",
       "      <td>Busiest Day</td>\n",
       "      <td>Busiest Days</td>\n",
       "      <td>Most Orders</td>\n",
       "      <td>Most Orders</td>\n",
       "      <td>12</td>\n",
       "      <td>Regular Customer</td>\n",
       "      <td>1235.679755</td>\n",
       "      <td>High Spender</td>\n",
       "      <td>12.0</td>\n",
       "      <td>Regular customer</td>\n",
       "    </tr>\n",
       "  </tbody>\n",
       "</table>\n",
       "<p>4776 rows × 25 columns</p>\n",
       "</div>"
      ],
      "text/plain": [
       "          order_id  user_id  order_number  orders_day_of_week  \\\n",
       "8960343     912404       17            12                   2   \n",
       "8960344     603376       17            22                   6   \n",
       "8960345    3264360      135             2                   2   \n",
       "8960346     892534      135             3                   0   \n",
       "8960347     229704      342             8                   1   \n",
       "...            ...      ...           ...                 ...   \n",
       "27128304   2249946   204099            29                   0   \n",
       "27128305   2363282   204099            31                   0   \n",
       "27128306   3181945   204395            13                   3   \n",
       "27128307   2486215   205227             7                   3   \n",
       "27128308   2232716   205227            10                   0   \n",
       "\n",
       "          order_hour_of_day  days_since_prior_order  product_id  \\\n",
       "8960343                  14                     5.0       21553   \n",
       "8960344                  16                     4.0       21553   \n",
       "8960345                  21                    13.0       21553   \n",
       "8960346                   8                    12.0       21553   \n",
       "8960347                  19                    30.0       21553   \n",
       "...                     ...                     ...         ...   \n",
       "27128304                  8                     4.0       33664   \n",
       "27128305                  9                     2.0       33664   \n",
       "27128306                 15                     8.0       33664   \n",
       "27128307                 20                     4.0       33664   \n",
       "27128308                 11                     4.0       33664   \n",
       "\n",
       "          add_to_cart_order  reordered                      product_name  ...  \\\n",
       "8960343                   5          0  Lowfat 2% Milkfat Cottage Cheese  ...   \n",
       "8960344                   3          1  Lowfat 2% Milkfat Cottage Cheese  ...   \n",
       "8960345                   6          0  Lowfat 2% Milkfat Cottage Cheese  ...   \n",
       "8960346                   3          1  Lowfat 2% Milkfat Cottage Cheese  ...   \n",
       "8960347                   9          0  Lowfat 2% Milkfat Cottage Cheese  ...   \n",
       "...                     ...        ...                               ...  ...   \n",
       "27128304                  1          0             2 % Reduced Fat  Milk  ...   \n",
       "27128305                  1          1             2 % Reduced Fat  Milk  ...   \n",
       "27128306                 25          0             2 % Reduced Fat  Milk  ...   \n",
       "27128307                  8          0             2 % Reduced Fat  Milk  ...   \n",
       "27128308                 23          1             2 % Reduced Fat  Milk  ...   \n",
       "\n",
       "             busiest_day     busiest_days   busiest_hours  \\\n",
       "8960343   Regularly Busy   Regularly Busy     Most Orders   \n",
       "8960344   Regularly Busy   Regularly Busy  Average Orders   \n",
       "8960345   Regularly Busy   Regularly Busy  Average Orders   \n",
       "8960346      Busiest Day     Busiest Days  Average Orders   \n",
       "8960347   Regularly Busy     Busiest Days  Average Orders   \n",
       "...                  ...              ...             ...   \n",
       "27128304     Busiest Day     Busiest Days  Average Orders   \n",
       "27128305     Busiest Day     Busiest Days  Average Orders   \n",
       "27128306  Regularly Busy  Least Busy Days     Most Orders   \n",
       "27128307  Regularly Busy  Least Busy Days  Average Orders   \n",
       "27128308     Busiest Day     Busiest Days     Most Orders   \n",
       "\n",
       "         busiest_period_of_day max_order      loyalty flag average_prices  \\\n",
       "8960343            Most Orders        40  Regular Customer     109.670103   \n",
       "8960344         Average Orders        40  Regular Customer     109.670103   \n",
       "8960345         Average Orders         4      New Customer    1250.245833   \n",
       "8960346         Average Orders         4      New Customer    1250.245833   \n",
       "8960347         Average Orders        16  Regular Customer     120.090909   \n",
       "...                        ...       ...               ...            ...   \n",
       "27128304        Average Orders        39  Regular Customer    1137.802260   \n",
       "27128305        Average Orders        39  Regular Customer    1137.802260   \n",
       "27128306           Most Orders        15  Regular Customer     487.075120   \n",
       "27128307        Average Orders        12  Regular Customer    1235.679755   \n",
       "27128308           Most Orders        12  Regular Customer    1235.679755   \n",
       "\n",
       "         Spending_Flag median_order_frequency          frequency_tag  \n",
       "8960343   High Spender                    5.0      Frequent customer  \n",
       "8960344   High Spender                    5.0      Frequent customer  \n",
       "8960345   High Spender                   12.0       Regular customer  \n",
       "8960346   High Spender                   12.0       Regular customer  \n",
       "8960347   High Spender                   23.0  Non-frequent customer  \n",
       "...                ...                    ...                    ...  \n",
       "27128304  High Spender                    4.0      Frequent customer  \n",
       "27128305  High Spender                    4.0      Frequent customer  \n",
       "27128306  High Spender                    5.0      Frequent customer  \n",
       "27128307  High Spender                   12.0       Regular customer  \n",
       "27128308  High Spender                   12.0       Regular customer  \n",
       "\n",
       "[4776 rows x 25 columns]"
      ]
     },
     "execution_count": 13,
     "metadata": {},
     "output_type": "execute_result"
    }
   ],
   "source": [
    "df.loc[df['prices']>100]"
   ]
  },
  {
   "cell_type": "code",
   "execution_count": 14,
   "id": "b713f1c8",
   "metadata": {},
   "outputs": [
    {
     "data": {
      "text/plain": [
       "count    3.032876e+07\n",
       "mean     1.197725e+01\n",
       "std      4.963730e+02\n",
       "min      1.000000e+00\n",
       "25%      4.200000e+00\n",
       "50%      7.400000e+00\n",
       "75%      1.130000e+01\n",
       "max      9.999900e+04\n",
       "Name: prices, dtype: float64"
      ]
     },
     "execution_count": 14,
     "metadata": {},
     "output_type": "execute_result"
    }
   ],
   "source": [
    "df['prices'].describe()"
   ]
  },
  {
   "cell_type": "code",
   "execution_count": 15,
   "id": "be444324",
   "metadata": {},
   "outputs": [],
   "source": [
    "pd.options.display.max_columns = None"
   ]
  },
  {
   "cell_type": "code",
   "execution_count": 16,
   "id": "4986fbd9",
   "metadata": {},
   "outputs": [
    {
     "data": {
      "text/html": [
       "<div>\n",
       "<style scoped>\n",
       "    .dataframe tbody tr th:only-of-type {\n",
       "        vertical-align: middle;\n",
       "    }\n",
       "\n",
       "    .dataframe tbody tr th {\n",
       "        vertical-align: top;\n",
       "    }\n",
       "\n",
       "    .dataframe thead th {\n",
       "        text-align: right;\n",
       "    }\n",
       "</style>\n",
       "<table border=\"1\" class=\"dataframe\">\n",
       "  <thead>\n",
       "    <tr style=\"text-align: right;\">\n",
       "      <th></th>\n",
       "      <th>order_id</th>\n",
       "      <th>user_id</th>\n",
       "      <th>order_number</th>\n",
       "      <th>orders_day_of_week</th>\n",
       "      <th>order_hour_of_day</th>\n",
       "      <th>days_since_prior_order</th>\n",
       "      <th>product_id</th>\n",
       "      <th>add_to_cart_order</th>\n",
       "      <th>reordered</th>\n",
       "      <th>product_name</th>\n",
       "      <th>aisle_id</th>\n",
       "      <th>department_id</th>\n",
       "      <th>prices</th>\n",
       "      <th>_merge</th>\n",
       "      <th>price_range_loc</th>\n",
       "      <th>busiest_day</th>\n",
       "      <th>busiest_days</th>\n",
       "      <th>busiest_hours</th>\n",
       "      <th>busiest_period_of_day</th>\n",
       "      <th>max_order</th>\n",
       "      <th>loyalty flag</th>\n",
       "      <th>average_prices</th>\n",
       "      <th>Spending_Flag</th>\n",
       "      <th>median_order_frequency</th>\n",
       "      <th>frequency_tag</th>\n",
       "    </tr>\n",
       "  </thead>\n",
       "  <tbody>\n",
       "    <tr>\n",
       "      <th>8960343</th>\n",
       "      <td>912404</td>\n",
       "      <td>17</td>\n",
       "      <td>12</td>\n",
       "      <td>2</td>\n",
       "      <td>14</td>\n",
       "      <td>5.0</td>\n",
       "      <td>21553</td>\n",
       "      <td>5</td>\n",
       "      <td>0</td>\n",
       "      <td>Lowfat 2% Milkfat Cottage Cheese</td>\n",
       "      <td>108</td>\n",
       "      <td>16</td>\n",
       "      <td>14900.0</td>\n",
       "      <td>both</td>\n",
       "      <td>High-range product</td>\n",
       "      <td>Regularly Busy</td>\n",
       "      <td>Regularly Busy</td>\n",
       "      <td>Most Orders</td>\n",
       "      <td>Most Orders</td>\n",
       "      <td>40</td>\n",
       "      <td>Regular Customer</td>\n",
       "      <td>109.670103</td>\n",
       "      <td>High Spender</td>\n",
       "      <td>5.0</td>\n",
       "      <td>Frequent customer</td>\n",
       "    </tr>\n",
       "    <tr>\n",
       "      <th>8960344</th>\n",
       "      <td>603376</td>\n",
       "      <td>17</td>\n",
       "      <td>22</td>\n",
       "      <td>6</td>\n",
       "      <td>16</td>\n",
       "      <td>4.0</td>\n",
       "      <td>21553</td>\n",
       "      <td>3</td>\n",
       "      <td>1</td>\n",
       "      <td>Lowfat 2% Milkfat Cottage Cheese</td>\n",
       "      <td>108</td>\n",
       "      <td>16</td>\n",
       "      <td>14900.0</td>\n",
       "      <td>both</td>\n",
       "      <td>High-range product</td>\n",
       "      <td>Regularly Busy</td>\n",
       "      <td>Regularly Busy</td>\n",
       "      <td>Average Orders</td>\n",
       "      <td>Average Orders</td>\n",
       "      <td>40</td>\n",
       "      <td>Regular Customer</td>\n",
       "      <td>109.670103</td>\n",
       "      <td>High Spender</td>\n",
       "      <td>5.0</td>\n",
       "      <td>Frequent customer</td>\n",
       "    </tr>\n",
       "    <tr>\n",
       "      <th>8960345</th>\n",
       "      <td>3264360</td>\n",
       "      <td>135</td>\n",
       "      <td>2</td>\n",
       "      <td>2</td>\n",
       "      <td>21</td>\n",
       "      <td>13.0</td>\n",
       "      <td>21553</td>\n",
       "      <td>6</td>\n",
       "      <td>0</td>\n",
       "      <td>Lowfat 2% Milkfat Cottage Cheese</td>\n",
       "      <td>108</td>\n",
       "      <td>16</td>\n",
       "      <td>14900.0</td>\n",
       "      <td>both</td>\n",
       "      <td>High-range product</td>\n",
       "      <td>Regularly Busy</td>\n",
       "      <td>Regularly Busy</td>\n",
       "      <td>Average Orders</td>\n",
       "      <td>Average Orders</td>\n",
       "      <td>4</td>\n",
       "      <td>New Customer</td>\n",
       "      <td>1250.245833</td>\n",
       "      <td>High Spender</td>\n",
       "      <td>12.0</td>\n",
       "      <td>Regular customer</td>\n",
       "    </tr>\n",
       "    <tr>\n",
       "      <th>8960346</th>\n",
       "      <td>892534</td>\n",
       "      <td>135</td>\n",
       "      <td>3</td>\n",
       "      <td>0</td>\n",
       "      <td>8</td>\n",
       "      <td>12.0</td>\n",
       "      <td>21553</td>\n",
       "      <td>3</td>\n",
       "      <td>1</td>\n",
       "      <td>Lowfat 2% Milkfat Cottage Cheese</td>\n",
       "      <td>108</td>\n",
       "      <td>16</td>\n",
       "      <td>14900.0</td>\n",
       "      <td>both</td>\n",
       "      <td>High-range product</td>\n",
       "      <td>Busiest Day</td>\n",
       "      <td>Busiest Days</td>\n",
       "      <td>Average Orders</td>\n",
       "      <td>Average Orders</td>\n",
       "      <td>4</td>\n",
       "      <td>New Customer</td>\n",
       "      <td>1250.245833</td>\n",
       "      <td>High Spender</td>\n",
       "      <td>12.0</td>\n",
       "      <td>Regular customer</td>\n",
       "    </tr>\n",
       "    <tr>\n",
       "      <th>8960347</th>\n",
       "      <td>229704</td>\n",
       "      <td>342</td>\n",
       "      <td>8</td>\n",
       "      <td>1</td>\n",
       "      <td>19</td>\n",
       "      <td>30.0</td>\n",
       "      <td>21553</td>\n",
       "      <td>9</td>\n",
       "      <td>0</td>\n",
       "      <td>Lowfat 2% Milkfat Cottage Cheese</td>\n",
       "      <td>108</td>\n",
       "      <td>16</td>\n",
       "      <td>14900.0</td>\n",
       "      <td>both</td>\n",
       "      <td>High-range product</td>\n",
       "      <td>Regularly Busy</td>\n",
       "      <td>Busiest Days</td>\n",
       "      <td>Average Orders</td>\n",
       "      <td>Average Orders</td>\n",
       "      <td>16</td>\n",
       "      <td>Regular Customer</td>\n",
       "      <td>120.090909</td>\n",
       "      <td>High Spender</td>\n",
       "      <td>23.0</td>\n",
       "      <td>Non-frequent customer</td>\n",
       "    </tr>\n",
       "    <tr>\n",
       "      <th>...</th>\n",
       "      <td>...</td>\n",
       "      <td>...</td>\n",
       "      <td>...</td>\n",
       "      <td>...</td>\n",
       "      <td>...</td>\n",
       "      <td>...</td>\n",
       "      <td>...</td>\n",
       "      <td>...</td>\n",
       "      <td>...</td>\n",
       "      <td>...</td>\n",
       "      <td>...</td>\n",
       "      <td>...</td>\n",
       "      <td>...</td>\n",
       "      <td>...</td>\n",
       "      <td>...</td>\n",
       "      <td>...</td>\n",
       "      <td>...</td>\n",
       "      <td>...</td>\n",
       "      <td>...</td>\n",
       "      <td>...</td>\n",
       "      <td>...</td>\n",
       "      <td>...</td>\n",
       "      <td>...</td>\n",
       "      <td>...</td>\n",
       "      <td>...</td>\n",
       "    </tr>\n",
       "    <tr>\n",
       "      <th>27128304</th>\n",
       "      <td>2249946</td>\n",
       "      <td>204099</td>\n",
       "      <td>29</td>\n",
       "      <td>0</td>\n",
       "      <td>8</td>\n",
       "      <td>4.0</td>\n",
       "      <td>33664</td>\n",
       "      <td>1</td>\n",
       "      <td>0</td>\n",
       "      <td>2 % Reduced Fat  Milk</td>\n",
       "      <td>84</td>\n",
       "      <td>16</td>\n",
       "      <td>99999.0</td>\n",
       "      <td>both</td>\n",
       "      <td>High-range product</td>\n",
       "      <td>Busiest Day</td>\n",
       "      <td>Busiest Days</td>\n",
       "      <td>Average Orders</td>\n",
       "      <td>Average Orders</td>\n",
       "      <td>39</td>\n",
       "      <td>Regular Customer</td>\n",
       "      <td>1137.802260</td>\n",
       "      <td>High Spender</td>\n",
       "      <td>4.0</td>\n",
       "      <td>Frequent customer</td>\n",
       "    </tr>\n",
       "    <tr>\n",
       "      <th>27128305</th>\n",
       "      <td>2363282</td>\n",
       "      <td>204099</td>\n",
       "      <td>31</td>\n",
       "      <td>0</td>\n",
       "      <td>9</td>\n",
       "      <td>2.0</td>\n",
       "      <td>33664</td>\n",
       "      <td>1</td>\n",
       "      <td>1</td>\n",
       "      <td>2 % Reduced Fat  Milk</td>\n",
       "      <td>84</td>\n",
       "      <td>16</td>\n",
       "      <td>99999.0</td>\n",
       "      <td>both</td>\n",
       "      <td>High-range product</td>\n",
       "      <td>Busiest Day</td>\n",
       "      <td>Busiest Days</td>\n",
       "      <td>Average Orders</td>\n",
       "      <td>Average Orders</td>\n",
       "      <td>39</td>\n",
       "      <td>Regular Customer</td>\n",
       "      <td>1137.802260</td>\n",
       "      <td>High Spender</td>\n",
       "      <td>4.0</td>\n",
       "      <td>Frequent customer</td>\n",
       "    </tr>\n",
       "    <tr>\n",
       "      <th>27128306</th>\n",
       "      <td>3181945</td>\n",
       "      <td>204395</td>\n",
       "      <td>13</td>\n",
       "      <td>3</td>\n",
       "      <td>15</td>\n",
       "      <td>8.0</td>\n",
       "      <td>33664</td>\n",
       "      <td>25</td>\n",
       "      <td>0</td>\n",
       "      <td>2 % Reduced Fat  Milk</td>\n",
       "      <td>84</td>\n",
       "      <td>16</td>\n",
       "      <td>99999.0</td>\n",
       "      <td>both</td>\n",
       "      <td>High-range product</td>\n",
       "      <td>Regularly Busy</td>\n",
       "      <td>Least Busy Days</td>\n",
       "      <td>Most Orders</td>\n",
       "      <td>Most Orders</td>\n",
       "      <td>15</td>\n",
       "      <td>Regular Customer</td>\n",
       "      <td>487.075120</td>\n",
       "      <td>High Spender</td>\n",
       "      <td>5.0</td>\n",
       "      <td>Frequent customer</td>\n",
       "    </tr>\n",
       "    <tr>\n",
       "      <th>27128307</th>\n",
       "      <td>2486215</td>\n",
       "      <td>205227</td>\n",
       "      <td>7</td>\n",
       "      <td>3</td>\n",
       "      <td>20</td>\n",
       "      <td>4.0</td>\n",
       "      <td>33664</td>\n",
       "      <td>8</td>\n",
       "      <td>0</td>\n",
       "      <td>2 % Reduced Fat  Milk</td>\n",
       "      <td>84</td>\n",
       "      <td>16</td>\n",
       "      <td>99999.0</td>\n",
       "      <td>both</td>\n",
       "      <td>High-range product</td>\n",
       "      <td>Regularly Busy</td>\n",
       "      <td>Least Busy Days</td>\n",
       "      <td>Average Orders</td>\n",
       "      <td>Average Orders</td>\n",
       "      <td>12</td>\n",
       "      <td>Regular Customer</td>\n",
       "      <td>1235.679755</td>\n",
       "      <td>High Spender</td>\n",
       "      <td>12.0</td>\n",
       "      <td>Regular customer</td>\n",
       "    </tr>\n",
       "    <tr>\n",
       "      <th>27128308</th>\n",
       "      <td>2232716</td>\n",
       "      <td>205227</td>\n",
       "      <td>10</td>\n",
       "      <td>0</td>\n",
       "      <td>11</td>\n",
       "      <td>4.0</td>\n",
       "      <td>33664</td>\n",
       "      <td>23</td>\n",
       "      <td>1</td>\n",
       "      <td>2 % Reduced Fat  Milk</td>\n",
       "      <td>84</td>\n",
       "      <td>16</td>\n",
       "      <td>99999.0</td>\n",
       "      <td>both</td>\n",
       "      <td>High-range product</td>\n",
       "      <td>Busiest Day</td>\n",
       "      <td>Busiest Days</td>\n",
       "      <td>Most Orders</td>\n",
       "      <td>Most Orders</td>\n",
       "      <td>12</td>\n",
       "      <td>Regular Customer</td>\n",
       "      <td>1235.679755</td>\n",
       "      <td>High Spender</td>\n",
       "      <td>12.0</td>\n",
       "      <td>Regular customer</td>\n",
       "    </tr>\n",
       "  </tbody>\n",
       "</table>\n",
       "<p>4776 rows × 25 columns</p>\n",
       "</div>"
      ],
      "text/plain": [
       "          order_id  user_id  order_number  orders_day_of_week  \\\n",
       "8960343     912404       17            12                   2   \n",
       "8960344     603376       17            22                   6   \n",
       "8960345    3264360      135             2                   2   \n",
       "8960346     892534      135             3                   0   \n",
       "8960347     229704      342             8                   1   \n",
       "...            ...      ...           ...                 ...   \n",
       "27128304   2249946   204099            29                   0   \n",
       "27128305   2363282   204099            31                   0   \n",
       "27128306   3181945   204395            13                   3   \n",
       "27128307   2486215   205227             7                   3   \n",
       "27128308   2232716   205227            10                   0   \n",
       "\n",
       "          order_hour_of_day  days_since_prior_order  product_id  \\\n",
       "8960343                  14                     5.0       21553   \n",
       "8960344                  16                     4.0       21553   \n",
       "8960345                  21                    13.0       21553   \n",
       "8960346                   8                    12.0       21553   \n",
       "8960347                  19                    30.0       21553   \n",
       "...                     ...                     ...         ...   \n",
       "27128304                  8                     4.0       33664   \n",
       "27128305                  9                     2.0       33664   \n",
       "27128306                 15                     8.0       33664   \n",
       "27128307                 20                     4.0       33664   \n",
       "27128308                 11                     4.0       33664   \n",
       "\n",
       "          add_to_cart_order  reordered                      product_name  \\\n",
       "8960343                   5          0  Lowfat 2% Milkfat Cottage Cheese   \n",
       "8960344                   3          1  Lowfat 2% Milkfat Cottage Cheese   \n",
       "8960345                   6          0  Lowfat 2% Milkfat Cottage Cheese   \n",
       "8960346                   3          1  Lowfat 2% Milkfat Cottage Cheese   \n",
       "8960347                   9          0  Lowfat 2% Milkfat Cottage Cheese   \n",
       "...                     ...        ...                               ...   \n",
       "27128304                  1          0             2 % Reduced Fat  Milk   \n",
       "27128305                  1          1             2 % Reduced Fat  Milk   \n",
       "27128306                 25          0             2 % Reduced Fat  Milk   \n",
       "27128307                  8          0             2 % Reduced Fat  Milk   \n",
       "27128308                 23          1             2 % Reduced Fat  Milk   \n",
       "\n",
       "          aisle_id  department_id   prices _merge     price_range_loc  \\\n",
       "8960343        108             16  14900.0   both  High-range product   \n",
       "8960344        108             16  14900.0   both  High-range product   \n",
       "8960345        108             16  14900.0   both  High-range product   \n",
       "8960346        108             16  14900.0   both  High-range product   \n",
       "8960347        108             16  14900.0   both  High-range product   \n",
       "...            ...            ...      ...    ...                 ...   \n",
       "27128304        84             16  99999.0   both  High-range product   \n",
       "27128305        84             16  99999.0   both  High-range product   \n",
       "27128306        84             16  99999.0   both  High-range product   \n",
       "27128307        84             16  99999.0   both  High-range product   \n",
       "27128308        84             16  99999.0   both  High-range product   \n",
       "\n",
       "             busiest_day     busiest_days   busiest_hours  \\\n",
       "8960343   Regularly Busy   Regularly Busy     Most Orders   \n",
       "8960344   Regularly Busy   Regularly Busy  Average Orders   \n",
       "8960345   Regularly Busy   Regularly Busy  Average Orders   \n",
       "8960346      Busiest Day     Busiest Days  Average Orders   \n",
       "8960347   Regularly Busy     Busiest Days  Average Orders   \n",
       "...                  ...              ...             ...   \n",
       "27128304     Busiest Day     Busiest Days  Average Orders   \n",
       "27128305     Busiest Day     Busiest Days  Average Orders   \n",
       "27128306  Regularly Busy  Least Busy Days     Most Orders   \n",
       "27128307  Regularly Busy  Least Busy Days  Average Orders   \n",
       "27128308     Busiest Day     Busiest Days     Most Orders   \n",
       "\n",
       "         busiest_period_of_day  max_order      loyalty flag  average_prices  \\\n",
       "8960343            Most Orders         40  Regular Customer      109.670103   \n",
       "8960344         Average Orders         40  Regular Customer      109.670103   \n",
       "8960345         Average Orders          4      New Customer     1250.245833   \n",
       "8960346         Average Orders          4      New Customer     1250.245833   \n",
       "8960347         Average Orders         16  Regular Customer      120.090909   \n",
       "...                        ...        ...               ...             ...   \n",
       "27128304        Average Orders         39  Regular Customer     1137.802260   \n",
       "27128305        Average Orders         39  Regular Customer     1137.802260   \n",
       "27128306           Most Orders         15  Regular Customer      487.075120   \n",
       "27128307        Average Orders         12  Regular Customer     1235.679755   \n",
       "27128308           Most Orders         12  Regular Customer     1235.679755   \n",
       "\n",
       "         Spending_Flag  median_order_frequency          frequency_tag  \n",
       "8960343   High Spender                     5.0      Frequent customer  \n",
       "8960344   High Spender                     5.0      Frequent customer  \n",
       "8960345   High Spender                    12.0       Regular customer  \n",
       "8960346   High Spender                    12.0       Regular customer  \n",
       "8960347   High Spender                    23.0  Non-frequent customer  \n",
       "...                ...                     ...                    ...  \n",
       "27128304  High Spender                     4.0      Frequent customer  \n",
       "27128305  High Spender                     4.0      Frequent customer  \n",
       "27128306  High Spender                     5.0      Frequent customer  \n",
       "27128307  High Spender                    12.0       Regular customer  \n",
       "27128308  High Spender                    12.0       Regular customer  \n",
       "\n",
       "[4776 rows x 25 columns]"
      ]
     },
     "execution_count": 16,
     "metadata": {},
     "output_type": "execute_result"
    }
   ],
   "source": [
    "df.loc[df['prices'] > 100]"
   ]
  },
  {
   "cell_type": "code",
   "execution_count": 17,
   "id": "67ad288a",
   "metadata": {},
   "outputs": [],
   "source": [
    "df.loc[df['prices'] > 100, 'prices'] = np.nan"
   ]
  },
  {
   "cell_type": "code",
   "execution_count": 18,
   "id": "7bea6fb8",
   "metadata": {},
   "outputs": [
    {
     "data": {
      "text/plain": [
       "25.0"
      ]
     },
     "execution_count": 18,
     "metadata": {},
     "output_type": "execute_result"
    }
   ],
   "source": [
    "df['prices'].max()"
   ]
  },
  {
   "cell_type": "code",
   "execution_count": 30,
   "id": "2fe20f4d",
   "metadata": {},
   "outputs": [
    {
     "data": {
      "text/plain": [
       "count    3.032399e+07\n",
       "mean     7.791450e+00\n",
       "std      4.241396e+00\n",
       "min      1.000000e+00\n",
       "25%      4.200000e+00\n",
       "50%      7.400000e+00\n",
       "75%      1.130000e+01\n",
       "max      2.500000e+01\n",
       "Name: prices, dtype: float64"
      ]
     },
     "execution_count": 30,
     "metadata": {},
     "output_type": "execute_result"
    }
   ],
   "source": [
    "df['prices'].describe()"
   ]
  },
  {
   "cell_type": "markdown",
   "id": "6d360ced",
   "metadata": {},
   "source": [
    "### Returning to Histograms and Scatterplots"
   ]
  },
  {
   "cell_type": "code",
   "execution_count": 19,
   "id": "7777306e",
   "metadata": {},
   "outputs": [
    {
     "data": {
      "image/png": "[encoded data removed]",
      "text/plain": [
       "<Figure size 640x480 with 1 Axes>"
      ]
     },
     "metadata": {},
     "output_type": "display_data"
    }
   ],
   "source": [
    "hist = df['prices'].plot.hist(bins = 25)"
   ]
  },
  {
   "cell_type": "code",
   "execution_count": 20,
   "id": "4118f01c",
   "metadata": {},
   "outputs": [
    {
     "data": {
      "image/png": "[encoded data removed]",
      "text/plain": [
       "<Figure size 640x480 with 1 Axes>"
      ]
     },
     "metadata": {},
     "output_type": "display_data"
    }
   ],
   "source": [
    "hist2 = df['prices'].plot.hist(bins = 70)"
   ]
  },
  {
   "cell_type": "code",
   "execution_count": 21,
   "id": "c0929393",
   "metadata": {},
   "outputs": [],
   "source": [
    "hist.figure.savefig(os.path.join(path, '04 Analysis','Visualizations', 'hist_prices_25.png'))"
   ]
  },
  {
   "cell_type": "code",
   "execution_count": 22,
   "id": "f9386163",
   "metadata": {},
   "outputs": [],
   "source": [
    "hist2.figure.savefig(os.path.join(path, '04 Analysis','Visualizations', 'hist_prices_70.png'))"
   ]
  },
  {
   "cell_type": "markdown",
   "id": "190a56f8",
   "metadata": {},
   "source": [
    "## 05. Line Charts and Sampling Data"
   ]
  },
  {
   "cell_type": "code",
   "execution_count": 23,
   "id": "8c24dec7",
   "metadata": {},
   "outputs": [],
   "source": [
    "np.random.seed(4)\n",
    "dev = np.random.rand(len(df)) <= 0.7"
   ]
  },
  {
   "cell_type": "code",
   "execution_count": 24,
   "id": "92066563",
   "metadata": {},
   "outputs": [
    {
     "data": {
      "text/plain": [
       "array([False,  True, False, ...,  True, False,  True])"
      ]
     },
     "execution_count": 24,
     "metadata": {},
     "output_type": "execute_result"
    }
   ],
   "source": [
    "dev"
   ]
  },
  {
   "cell_type": "code",
   "execution_count": 25,
   "id": "362311fb",
   "metadata": {},
   "outputs": [],
   "source": [
    "big = df[dev]\n",
    "small = df[~dev]"
   ]
  },
  {
   "cell_type": "code",
   "execution_count": 26,
   "id": "f966ac3e",
   "metadata": {},
   "outputs": [
    {
     "data": {
      "text/plain": [
       "30328763"
      ]
     },
     "execution_count": 26,
     "metadata": {},
     "output_type": "execute_result"
    }
   ],
   "source": [
    "len(df)"
   ]
  },
  {
   "cell_type": "code",
   "execution_count": 27,
   "id": "0aed4b73",
   "metadata": {},
   "outputs": [
    {
     "data": {
      "text/plain": [
       "30328763"
      ]
     },
     "execution_count": 27,
     "metadata": {},
     "output_type": "execute_result"
    }
   ],
   "source": [
    "len(big)+len(small)"
   ]
  },
  {
   "cell_type": "code",
   "execution_count": 28,
   "id": "7a4439bb",
   "metadata": {},
   "outputs": [],
   "source": [
    "df_2 = small[['orders_day_of_week','prices']]"
   ]
  },
  {
   "cell_type": "code",
   "execution_count": 29,
   "id": "c2874141",
   "metadata": {},
   "outputs": [
    {
     "data": {
      "image/png": "[encoded data removed]",
      "text/plain": [
       "<Figure size 640x480 with 1 Axes>"
      ]
     },
     "metadata": {},
     "output_type": "display_data"
    }
   ],
   "source": [
    "line = sns.lineplot(data = df_2, x = 'orders_day_of_week', y = 'prices')"
   ]
  },
  {
   "cell_type": "code",
   "execution_count": null,
   "id": "51ba660a",
   "metadata": {},
   "outputs": [],
   "source": []
  }
 ],
 "metadata": {
  "kernelspec": {
   "display_name": "Python 3 (ipykernel)",
   "language": "python",
   "name": "python3"
  },
  "language_info": {
   "codemirror_mode": {
    "name": "ipython",
    "version": 3
   },
   "file_extension": ".py",
   "mimetype": "text/x-python",
   "name": "python",
   "nbconvert_exporter": "python",
   "pygments_lexer": "ipython3",
   "version": "3.9.13"
  }
 },
 "nbformat": 4,
 "nbformat_minor": 5
}
